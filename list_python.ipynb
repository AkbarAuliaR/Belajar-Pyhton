{
  "nbformat": 4,
  "nbformat_minor": 0,
  "metadata": {
    "colab": {
      "name": "list_python",
      "provenance": []
    },
    "kernelspec": {
      "name": "python3",
      "display_name": "Python 3"
    },
    "language_info": {
      "name": "python"
    }
  },
  "cells": [
    {
      "cell_type": "code",
      "execution_count": 13,
      "metadata": {
        "colab": {
          "base_uri": "https://localhost:8080/"
        },
        "id": "xbDul6M8_-Dm",
        "outputId": "31dafc04-5c43-4d91-f961-852e6868f2ea"
      },
      "outputs": [
        {
          "output_type": "stream",
          "name": "stdout",
          "text": [
            "[1, 'dua', 3, 4.0, 5]\n",
            "4.0\n"
          ]
        }
      ],
      "source": [
        "contoh1=[1,'dua',3,4.0,5]\n",
        "print(contoh1)\n",
        "print(contoh1[3])"
      ]
    },
    {
      "cell_type": "code",
      "source": [
        "contoh1=[1,'dua',3,'empat',5]\n",
        "print(contoh1)\n",
        "print(contoh1[3])"
      ],
      "metadata": {
        "colab": {
          "base_uri": "https://localhost:8080/"
        },
        "id": "2mqkBZYGFc2W",
        "outputId": "d4339b97-891c-485e-fabb-80cad57536c0"
      },
      "execution_count": 14,
      "outputs": [
        {
          "output_type": "stream",
          "name": "stdout",
          "text": [
            "[1, 'dua', 3, 'empat', 5]\n",
            "empat\n"
          ]
        }
      ]
    }
  ]
}