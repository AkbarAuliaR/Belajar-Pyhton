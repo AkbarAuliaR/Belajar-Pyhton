{
  "nbformat": 4,
  "nbformat_minor": 0,
  "metadata": {
    "colab": {
      "name": "tuple_python",
      "provenance": []
    },
    "kernelspec": {
      "name": "python3",
      "display_name": "Python 3"
    },
    "language_info": {
      "name": "python"
    }
  },
  "cells": [
    {
      "cell_type": "code",
      "execution_count": 1,
      "metadata": {
        "colab": {
          "base_uri": "https://localhost:8080/"
        },
        "id": "rB8hEX1UMPQN",
        "outputId": "4a14e557-d632-448b-bc40-593b0c8066bd"
      },
      "outputs": [
        {
          "output_type": "stream",
          "name": "stdout",
          "text": [
            "['januari', 'februari', 'maret', 'april']\n"
          ]
        }
      ],
      "source": [
        "contoh_tuple=['januari','februari','maret','april']\n",
        "print(contoh_tuple)"
      ]
    },
    {
      "cell_type": "code",
      "source": [
        "contoh_tuple=('desember','februari','maret','april')\n",
        "print(contoh_tuple)"
      ],
      "metadata": {
        "colab": {
          "base_uri": "https://localhost:8080/"
        },
        "id": "Uwrh_fYeRdlD",
        "outputId": "4fc93879-7d61-4d1c-f5ae-69c5b54fcb34"
      },
      "execution_count": 3,
      "outputs": [
        {
          "output_type": "stream",
          "name": "stdout",
          "text": [
            "('desember', 'februari', 'maret', 'april')\n"
          ]
        }
      ]
    }
  ]
}