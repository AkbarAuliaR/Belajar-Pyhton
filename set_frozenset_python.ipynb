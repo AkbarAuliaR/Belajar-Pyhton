{
  "nbformat": 4,
  "nbformat_minor": 0,
  "metadata": {
    "colab": {
      "name": "set_frozenset_python",
      "provenance": []
    },
    "kernelspec": {
      "name": "python3",
      "display_name": "Python 3"
    },
    "language_info": {
      "name": "python"
    }
  },
  "cells": [
    {
      "cell_type": "code",
      "execution_count": 4,
      "metadata": {
        "colab": {
          "base_uri": "https://localhost:8080/"
        },
        "id": "732_TFAgWMzw",
        "outputId": "0cde9a02-4391-45bb-e88f-f2c146945ce6"
      },
      "outputs": [
        {
          "output_type": "stream",
          "name": "stdout",
          "text": [
            "['Dewi', 'Budi', 'Cici', 'Linda', 'Cici']\n",
            "{'Cici', 'Budi', 'Dewi', 'Linda'}\n",
            "frozenset({'Cici', 'Budi', 'Dewi', 'Linda'})\n"
          ]
        }
      ],
      "source": [
        "data_list =['Dewi','Budi','Cici','Linda','Cici']\n",
        "print(data_list)\n",
        "data_set =set(['Dewi','Budi','Cici','Linda','Cici'])\n",
        "print(data_set)\n",
        "data_frozeset =frozenset(data_list)\n",
        "print(data_frozeset)"
      ]
    }
  ]
}