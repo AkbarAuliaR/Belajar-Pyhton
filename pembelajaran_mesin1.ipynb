{
  "nbformat": 4,
  "nbformat_minor": 0,
  "metadata": {
    "colab": {
      "name": "pembelajaran mesin.ipynb",
      "provenance": [],
      "collapsed_sections": []
    },
    "kernelspec": {
      "name": "python3",
      "display_name": "Python 3"
    },
    "language_info": {
      "name": "python"
    }
  },
  "cells": [
    {
      "cell_type": "code",
      "execution_count": null,
      "metadata": {
        "id": "DXuELaKuInx_"
      },
      "outputs": [],
      "source": [
        "print(\"belajar python\")"
      ]
    },
    {
      "cell_type": "markdown",
      "source": [
        ""
      ],
      "metadata": {
        "id": "39K2fvS0PwRw"
      }
    },
    {
      "cell_type": "code",
      "source": [
        "print(\"Belajar Python itu menyenyangkan\")\n",
        "print(\"Nama saya adalah Akbar Aulia Rachman\")\n",
        "print(\"Mata Kuliah Machine learning\")"
      ],
      "metadata": {
        "colab": {
          "base_uri": "https://localhost:8080/"
        },
        "id": "iRNP6Xm5P0EW",
        "outputId": "b438992a-3f56-41f9-9ca2-14258619a2a0"
      },
      "execution_count": 2,
      "outputs": [
        {
          "output_type": "stream",
          "name": "stdout",
          "text": [
            "Belajar Python itu menyenyangkan\n",
            "Nama saya adalah Akbar Aulia Rachman\n",
            "Mata Kuliah Machine learning\n"
          ]
        }
      ]
    }
  ]
}